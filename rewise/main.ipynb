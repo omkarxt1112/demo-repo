{
 "cells": [
  {
   "cell_type": "code",
   "execution_count": 9,
   "id": "99b4643b",
   "metadata": {},
   "outputs": [],
   "source": [
    "import numpy as np\n",
    "import pandas as pd"
   ]
  },
  {
   "cell_type": "code",
   "execution_count": 23,
   "id": "03912bef",
   "metadata": {},
   "outputs": [
    {
     "name": "stdout",
     "output_type": "stream",
     "text": [
      "0    Omkar\n",
      "1       vv\n",
      "2     ragu\n",
      "dtype: object\n",
      "vv\n"
     ]
    }
   ],
   "source": [
    "omkar = [\"Omkar\", \"vv\", \"ragu\"]\n",
    "lst = pd.Series(omkar)\n",
    "print(lst)\n",
    "print(lst[1])"
   ]
  },
  {
   "cell_type": "code",
   "execution_count": 24,
   "id": "bd3f1209",
   "metadata": {},
   "outputs": [
    {
     "name": "stdout",
     "output_type": "stream",
     "text": [
      "x    Omkar\n",
      "y       vv\n",
      "z     ragu\n",
      "dtype: object\n"
     ]
    }
   ],
   "source": [
    "names = [101, 102, 103]\n",
    "a = pd.Series(omkar, index=[\"x\", \"y\", \"z\"])\n",
    "print(a)\n"
   ]
  },
  {
   "cell_type": "code",
   "execution_count": 26,
   "id": "473eff21",
   "metadata": {},
   "outputs": [
    {
     "name": "stdout",
     "output_type": "stream",
     "text": [
      "vv\n"
     ]
    }
   ],
   "source": [
    "print(a[\"y\"])"
   ]
  },
  {
   "cell_type": "code",
   "execution_count": 27,
   "id": "9ddcd867",
   "metadata": {},
   "outputs": [
    {
     "name": "stdout",
     "output_type": "stream",
     "text": [
      "1       Monday\n",
      "2      Tuesday\n",
      "3    Wednesday\n",
      "4    Thuresday\n",
      "dtype: object\n"
     ]
    }
   ],
   "source": [
    "cal = {1 : \"Monday\", 2: \"Tuesday\", 3 : \"Wednesday\", 4 : \"Thuresday\"}\n",
    "calnew = pd.Series(cal)\n",
    "print(calnew)"
   ]
  }
 ],
 "metadata": {
  "kernelspec": {
   "display_name": "Python 3",
   "language": "python",
   "name": "python3"
  },
  "language_info": {
   "codemirror_mode": {
    "name": "ipython",
    "version": 3
   },
   "file_extension": ".py",
   "mimetype": "text/x-python",
   "name": "python",
   "nbconvert_exporter": "python",
   "pygments_lexer": "ipython3",
   "version": "3.12.1"
  }
 },
 "nbformat": 4,
 "nbformat_minor": 5
}
