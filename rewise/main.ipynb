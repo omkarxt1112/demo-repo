{
 "cells": [
  {
   "cell_type": "code",
   "execution_count": 5,
   "id": "99b4643b",
   "metadata": {},
   "outputs": [],
   "source": [
    "import numpy as np\n",
    "import pandas as pd"
   ]
  },
  {
   "cell_type": "code",
   "execution_count": 7,
   "id": "ad3e9d68",
   "metadata": {},
   "outputs": [
    {
     "data": {
      "text/plain": [
       "0    om\n",
       "1    ck\n",
       "2    dg\n",
       "3    Lv\n",
       "dtype: object"
      ]
     },
     "execution_count": 7,
     "metadata": {},
     "output_type": "execute_result"
    }
   ],
   "source": [
    "lst = [\"om\", 'ck', 'dg', 'Lv']\n",
    "new_lst = pd.Series(lst)\n",
    "new_lst"
   ]
  },
  {
   "cell_type": "code",
   "execution_count": 11,
   "id": "b3eecc55",
   "metadata": {},
   "outputs": [
    {
     "name": "stdout",
     "output_type": "stream",
     "text": [
      "Lv\n"
     ]
    }
   ],
   "source": [
    "print(new_lst[3])"
   ]
  },
  {
   "cell_type": "code",
   "execution_count": 14,
   "id": "7f9f6645",
   "metadata": {},
   "outputs": [
    {
     "data": {
      "text/plain": [
       "a    om\n",
       "b    ck\n",
       "c    dg\n",
       "d    Lv\n",
       "dtype: object"
      ]
     },
     "execution_count": 14,
     "metadata": {},
     "output_type": "execute_result"
    }
   ],
   "source": [
    "a = pd.Series(lst, index=['a', 'b', 'c', 'd'])\n",
    "a"
   ]
  },
  {
   "cell_type": "code",
   "execution_count": 19,
   "id": "5386427b",
   "metadata": {},
   "outputs": [
    {
     "name": "stdout",
     "output_type": "stream",
     "text": [
      "<class 'dict'>\n",
      "<class 'pandas.core.series.Series'>\n"
     ]
    },
    {
     "data": {
      "text/plain": [
       "1       Monday\n",
       "2      Tuesday\n",
       "3    Wednesday\n",
       "4    Thuresday\n",
       "dtype: object"
      ]
     },
     "execution_count": 19,
     "metadata": {},
     "output_type": "execute_result"
    }
   ],
   "source": [
    "cal = {1 : \"Monday\", 2: \"Tuesday\", 3 : \"Wednesday\", 4 : \"Thuresday\"}\n",
    "print(type(cal))\n",
    "var = pd.Series(cal)\n",
    "print(type(var))\n",
    "var"
   ]
  },
  {
   "cell_type": "code",
   "execution_count": 21,
   "id": "7a417f93",
   "metadata": {},
   "outputs": [
    {
     "name": "stdout",
     "output_type": "stream",
     "text": [
      "Wednesday\n"
     ]
    }
   ],
   "source": [
    "print(var[3])"
   ]
  },
  {
   "cell_type": "code",
   "execution_count": 23,
   "id": "24067b39",
   "metadata": {},
   "outputs": [
    {
     "data": {
      "text/html": [
       "<div>\n",
       "<style scoped>\n",
       "    .dataframe tbody tr th:only-of-type {\n",
       "        vertical-align: middle;\n",
       "    }\n",
       "\n",
       "    .dataframe tbody tr th {\n",
       "        vertical-align: top;\n",
       "    }\n",
       "\n",
       "    .dataframe thead th {\n",
       "        text-align: right;\n",
       "    }\n",
       "</style>\n",
       "<table border=\"1\" class=\"dataframe\">\n",
       "  <thead>\n",
       "    <tr style=\"text-align: right;\">\n",
       "      <th></th>\n",
       "      <th>cal</th>\n",
       "      <th>duration</th>\n",
       "    </tr>\n",
       "  </thead>\n",
       "  <tbody>\n",
       "    <tr>\n",
       "      <th>0</th>\n",
       "      <td>12</td>\n",
       "      <td>50</td>\n",
       "    </tr>\n",
       "    <tr>\n",
       "      <th>1</th>\n",
       "      <td>13</td>\n",
       "      <td>60</td>\n",
       "    </tr>\n",
       "    <tr>\n",
       "      <th>2</th>\n",
       "      <td>14</td>\n",
       "      <td>70</td>\n",
       "    </tr>\n",
       "  </tbody>\n",
       "</table>\n",
       "</div>"
      ],
      "text/plain": [
       "   cal  duration\n",
       "0   12        50\n",
       "1   13        60\n",
       "2   14        70"
      ]
     },
     "execution_count": 23,
     "metadata": {},
     "output_type": "execute_result"
    }
   ],
   "source": [
    "om = {\"cal\": [12,13,14], \"duration\": [50,60,70]}\n",
    "pd.DataFrame(om)"
   ]
  },
  {
   "cell_type": "code",
   "execution_count": 30,
   "id": "9d6732fa",
   "metadata": {},
   "outputs": [
    {
     "name": "stdout",
     "output_type": "stream",
     "text": [
      "   cal  duration\n",
      "1   12        50\n",
      "2   13        60\n",
      "3   14        70\n"
     ]
    }
   ],
   "source": [
    "res = pd.DataFrame(om, index=(1,2,3))\n",
    "print(res)"
   ]
  },
  {
   "cell_type": "code",
   "execution_count": 36,
   "id": "229d96b8",
   "metadata": {},
   "outputs": [
    {
     "name": "stdout",
     "output_type": "stream",
     "text": [
      "cal         12\n",
      "duration    50\n",
      "Name: 1, dtype: int64\n"
     ]
    }
   ],
   "source": [
    "print(res.loc[1])"
   ]
  },
  {
   "cell_type": "code",
   "execution_count": 41,
   "id": "5ced1dd0",
   "metadata": {},
   "outputs": [
    {
     "name": "stdout",
     "output_type": "stream",
     "text": [
      "   cal  duration\n",
      "1   12        50\n",
      "2   13        60\n",
      "3   14        70\n"
     ]
    }
   ],
   "source": [
    "print(res.loc[[1,2,3]])"
   ]
  },
  {
   "cell_type": "code",
   "execution_count": 6,
   "id": "28b3d622",
   "metadata": {},
   "outputs": [
    {
     "name": "stdout",
     "output_type": "stream",
     "text": [
      "      Cal  Dur\n",
      "Day1  420   50\n",
      "Day2  390   40\n",
      "Day3  380   45\n"
     ]
    }
   ],
   "source": [
    "data = {\"Cal\": [420, 390, 380],\n",
    "        \"Dur\": [50, 40, 45]}\n",
    "result = pd.DataFrame(data, index=(\"Day1\", \"Day2\", \"Day3\"))\n",
    "print(result)"
   ]
  },
  {
   "cell_type": "code",
   "execution_count": 7,
   "id": "ba179416",
   "metadata": {},
   "outputs": [
    {
     "name": "stdout",
     "output_type": "stream",
     "text": [
      "      Cal  Dur\n",
      "Day1  420   50\n",
      "Day2  390   40\n"
     ]
    }
   ],
   "source": [
    "print(result.loc[[\"Day1\", \"Day2\"]])"
   ]
  },
  {
   "cell_type": "code",
   "execution_count": 8,
   "id": "fcbde8ba",
   "metadata": {},
   "outputs": [
    {
     "name": "stdout",
     "output_type": "stream",
     "text": [
      "Cal    420\n",
      "Dur     50\n",
      "Name: Day1, dtype: int64\n"
     ]
    }
   ],
   "source": [
    "print(result.loc[\"Day1\"])"
   ]
  },
  {
   "cell_type": "code",
   "execution_count": null,
   "id": "6d7a0bee",
   "metadata": {},
   "outputs": [],
   "source": []
  }
 ],
 "metadata": {
  "kernelspec": {
   "display_name": "Python 3",
   "language": "python",
   "name": "python3"
  },
  "language_info": {
   "codemirror_mode": {
    "name": "ipython",
    "version": 3
   },
   "file_extension": ".py",
   "mimetype": "text/x-python",
   "name": "python",
   "nbconvert_exporter": "python",
   "pygments_lexer": "ipython3",
   "version": "3.12.1"
  }
 },
 "nbformat": 4,
 "nbformat_minor": 5
}
