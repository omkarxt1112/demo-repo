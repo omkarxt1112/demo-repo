{
 "cells": [
  {
   "cell_type": "code",
   "execution_count": 3,
   "id": "4df2fb60",
   "metadata": {},
   "outputs": [
    {
     "name": "stdout",
     "output_type": "stream",
     "text": [
      "2.3.1\n"
     ]
    }
   ],
   "source": [
    "import numpy as np\n",
    "print(np.__version__)"
   ]
  },
  {
   "cell_type": "code",
   "execution_count": 5,
   "id": "1b290b29",
   "metadata": {},
   "outputs": [
    {
     "name": "stdout",
     "output_type": "stream",
     "text": [
      "[10 20 30 40]\n",
      "<class 'numpy.ndarray'>\n"
     ]
    }
   ],
   "source": [
    "arr_1 = np.array([10,20,30,40])\n",
    "print(arr_1)\n",
    "print(type(arr_1))"
   ]
  },
  {
   "cell_type": "code",
   "execution_count": 8,
   "id": "3e1f4ac1",
   "metadata": {},
   "outputs": [
    {
     "name": "stdout",
     "output_type": "stream",
     "text": [
      "[[1 2 3 4]\n",
      " [5 6 7 8]]\n",
      "<class 'numpy.ndarray'>\n"
     ]
    }
   ],
   "source": [
    "arr_2 = np.array([[1,2,3,4], [5,6,7,8]])\n",
    "print(arr_2)\n",
    "print(type(arr_2))"
   ]
  },
  {
   "cell_type": "code",
   "execution_count": 14,
   "id": "1f4b485b",
   "metadata": {},
   "outputs": [
    {
     "name": "stdout",
     "output_type": "stream",
     "text": [
      "[10, 20, 30, 40, 10, 20, 30, 40]\n",
      "<class 'list'>\n",
      "[ 22  44  66  88 110]\n",
      "<class 'numpy.ndarray'>\n"
     ]
    }
   ],
   "source": [
    "lst = [10,20,30,40]\n",
    "print(lst * 2)\n",
    "print(type(lst))\n",
    "\n",
    "num_arr = np.array([11,22,33,44,55])\n",
    "print(num_arr * 2)\n",
    "print(type(num_arr))"
   ]
  },
  {
   "cell_type": "code",
   "execution_count": 20,
   "id": "404650b5",
   "metadata": {},
   "outputs": [
    {
     "name": "stdout",
     "output_type": "stream",
     "text": [
      "Vector \n",
      " [10 20 30 40]\n",
      "Matrix: \n",
      " [[1 2 3]\n",
      " [4 5 6]\n",
      " [7 8 9]]\n"
     ]
    }
   ],
   "source": [
    "vector = np.array([10,20,30, 40])\n",
    "print(\"Vector \\n\", vector)\n",
    "\n",
    "matrix = np.array([\n",
    "    [1,2,3], \n",
    "    [4,5,6],\n",
    "    [7,8,9]])\n",
    "print(\"Matrix: \\n\", matrix)"
   ]
  },
  {
   "cell_type": "code",
   "execution_count": 25,
   "id": "c7c278ef",
   "metadata": {},
   "outputs": [
    {
     "name": "stdout",
     "output_type": "stream",
     "text": [
      "(3, 3)\n",
      "int64\n",
      "9\n",
      "2\n"
     ]
    }
   ],
   "source": [
    "print(matrix.shape)\n",
    "print(matrix.dtype)\n",
    "print(matrix.size)\n",
    "print(matrix.ndim)\n"
   ]
  },
  {
   "cell_type": "code",
   "execution_count": 49,
   "id": "77db5a0e",
   "metadata": {},
   "outputs": [
    {
     "name": "stdout",
     "output_type": "stream",
     "text": [
      "[ 0  1  2  3  4  5  6  7  8  9 10 11 12 13 14 15 16 17 18 19]\n",
      "Reshaped array: \n",
      " [[ 0  1  2  3]\n",
      " [ 4  5  6  7]\n",
      " [ 8  9 10 11]\n",
      " [12 13 14 15]\n",
      " [16 17 18 19]]\n"
     ]
    }
   ],
   "source": [
    "arr = np.arange(20)\n",
    "print(arr)\n",
    "\n",
    "reshaped = arr.reshape((5, 4))\n",
    "print(\"Reshaped array: \\n\", reshaped)"
   ]
  },
  {
   "cell_type": "code",
   "execution_count": 50,
   "id": "511df731",
   "metadata": {},
   "outputs": [
    {
     "name": "stdout",
     "output_type": "stream",
     "text": [
      "[ 0  1  2  3  4  5  6  7  8  9 10 11 12 13 14 15 16 17 18 19]\n"
     ]
    }
   ],
   "source": [
    "flat = reshaped.flatten()\n",
    "print(flat)"
   ]
  },
  {
   "cell_type": "code",
   "execution_count": 56,
   "id": "11d5b8ba",
   "metadata": {},
   "outputs": [
    {
     "name": "stdout",
     "output_type": "stream",
     "text": [
      "[ 0  1  2  3  4  5  6  7  8  9 10 11 12 13 14 15 16 17 18 19]\n"
     ]
    }
   ],
   "source": [
    "sarvam = np.array([\n",
    " [ 0, 1, 2, 3],\n",
    " [ 4, 5, 6, 7],\n",
    " [ 8, 9, 10, 11],\n",
    " [12, 13, 14, 15],\n",
    " [16, 17, 18, 19]\n",
    "])\n",
    "# print(sarvam)\n",
    "\n",
    "san = sarvam.flatten()\n",
    "print(san)"
   ]
  },
  {
   "cell_type": "code",
   "execution_count": 58,
   "id": "54b2456f",
   "metadata": {},
   "outputs": [
    {
     "name": "stdout",
     "output_type": "stream",
     "text": [
      "[ 0  1  2  3  4  5  6  7  8  9 10 11 12 13 14 15 16 17 18 19]\n"
     ]
    }
   ],
   "source": [
    "rav = sarvam.ravel()\n",
    "print(rav)"
   ]
  },
  {
   "cell_type": "code",
   "execution_count": 62,
   "id": "636247b5",
   "metadata": {},
   "outputs": [
    {
     "name": "stdout",
     "output_type": "stream",
     "text": [
      "[[  0   1   2   3]\n",
      " [  4   5   6   7]\n",
      " [  8   9  10 100]\n",
      " [ 12  13  14  15]\n",
      " [ 16  17  18  19]]\n"
     ]
    }
   ],
   "source": [
    "sarvam[2, 3] = 100\n",
    "print(sarvam)"
   ]
  },
  {
   "cell_type": "code",
   "execution_count": 63,
   "id": "4834b997",
   "metadata": {},
   "outputs": [
    {
     "name": "stdout",
     "output_type": "stream",
     "text": [
      "[[  0   1   2   3]\n",
      " [  4   5   6   7]\n",
      " [  8   9  10 100]\n",
      " [ 12  13  14  15]\n",
      " [ 16  17  18  19]]\n"
     ]
    }
   ],
   "source": [
    "print(sarvam)"
   ]
  }
 ],
 "metadata": {
  "kernelspec": {
   "display_name": "Python 3",
   "language": "python",
   "name": "python3"
  },
  "language_info": {
   "codemirror_mode": {
    "name": "ipython",
    "version": 3
   },
   "file_extension": ".py",
   "mimetype": "text/x-python",
   "name": "python",
   "nbconvert_exporter": "python",
   "pygments_lexer": "ipython3",
   "version": "3.12.1"
  }
 },
 "nbformat": 4,
 "nbformat_minor": 5
}
